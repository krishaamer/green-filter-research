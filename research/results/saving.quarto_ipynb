{
  "cells": [
    {
      "cell_type": "markdown",
      "metadata": {},
      "source": [
        "---\n",
        "title: Saving\n",
        "sidebar_position: 2\n",
        "execute:\n",
        "  echo: false\n",
        "editor:\n",
        "  render-on-save: false\n",
        "suppress-bibliography: true\n",
        "---"
      ],
      "id": "5e1ff9f5"
    },
    {
      "cell_type": "code",
      "metadata": {},
      "source": [
        "from data.saving import saving_to_investing_sankey, saving_to_investing_bars\n",
        "import warnings\n",
        "warnings.filterwarnings(\"ignore\")"
      ],
      "id": "6c6b4963",
      "execution_count": null,
      "outputs": []
    },
    {
      "cell_type": "markdown",
      "metadata": {},
      "source": [
        "## Saving\n",
        "\n",
        "The following charts are based on the 你/妳覺得目前有任何投資嗎？ and 你/妳覺得目前有任何投資嗎？ boolean (Yes / No) fields. The data shows correlation between saving levels and investing: the students with higher level of saving invest more. "
      ],
      "id": "910b95bd"
    },
    {
      "cell_type": "code",
      "metadata": {},
      "source": [
        "#| label: fig-survey-corr-invest-bar\n",
        "#| fig-cap: Correlation Between Saving Levels and Investing (Sankey)\n",
        "#| fig-scap: Correlation Between Saving Levels and Investing (Sankey)\n",
        "saving_to_investing_bars()"
      ],
      "id": "fig-survey-corr-invest-bar",
      "execution_count": null,
      "outputs": []
    },
    {
      "cell_type": "markdown",
      "metadata": {},
      "source": [
        "The same data plotted as a Sankey chart."
      ],
      "id": "aac51142"
    },
    {
      "cell_type": "code",
      "metadata": {},
      "source": [
        "#| label: fig-survey-corr-invest-sankey\n",
        "#| fig-cap: Correlation Between Saving Levels and Investing (Sankey)\n",
        "#| fig-scap: Correlation Between Saving Levels and Investing (Sankey)\n",
        "saving_to_investing_sankey()"
      ],
      "id": "fig-survey-corr-invest-sankey",
      "execution_count": null,
      "outputs": []
    }
  ],
  "metadata": {
    "kernelspec": {
      "name": "python3",
      "language": "python",
      "display_name": "Python 3 (ipykernel)",
      "path": "/Library/Frameworks/Python.framework/Versions/3.13/share/jupyter/kernels/python3"
    }
  },
  "nbformat": 4,
  "nbformat_minor": 5
}