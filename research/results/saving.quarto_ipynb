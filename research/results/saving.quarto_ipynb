{
  "cells": [
    {
      "cell_type": "markdown",
      "metadata": {},
      "source": [
        "---\n",
        "title: Saving\n",
        "sidebar_position: 2\n",
        "execute:\n",
        "  echo: false\n",
        "editor:\n",
        "  render-on-save: false\n",
        "suppress-bibliography: true\n",
        "---"
      ],
      "id": "55c023df"
    },
    {
      "cell_type": "code",
      "metadata": {},
      "source": [
        "from data.saving import saving_to_investing\n",
        "import warnings\n",
        "warnings.filterwarnings(\"ignore\")"
      ],
      "id": "3dc23dde",
      "execution_count": null,
      "outputs": []
    },
    {
      "cell_type": "markdown",
      "metadata": {},
      "source": [
        "## Saving"
      ],
      "id": "0dc43101"
    },
    {
      "cell_type": "code",
      "metadata": {},
      "source": [
        "#| label: fig-survey-corr-invest\n",
        "#| fig-cap: Correlation Between Saving Levels and Investing\n",
        "#| fig-scap: Correlation Between Saving Levels and Investing\n",
        "saving_to_investing()"
      ],
      "id": "fig-survey-corr-invest",
      "execution_count": null,
      "outputs": []
    },
    {
      "cell_type": "markdown",
      "metadata": {},
      "source": [
        "Correlation between saving levels and investing: the students with higher level of saving invest more. \n"
      ],
      "id": "e0478fa3"
    }
  ],
  "metadata": {
    "kernelspec": {
      "name": "python3",
      "language": "python",
      "display_name": "Python 3 (ipykernel)",
      "path": "/Library/Frameworks/Python.framework/Versions/3.13/share/jupyter/kernels/python3"
    }
  },
  "nbformat": 4,
  "nbformat_minor": 5
}