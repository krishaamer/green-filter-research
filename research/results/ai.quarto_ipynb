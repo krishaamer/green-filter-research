{
  "cells": [
    {
      "cell_type": "markdown",
      "metadata": {},
      "source": [
        "---\n",
        "title: Features (AI)\n",
        "bibliography: [../ref.bib]\n",
        "csl: ../harvard.csl\n",
        "sidebar_position: 7\n",
        "execute:\n",
        "  echo: false\n",
        "editor:\n",
        "    render-on-save: false\n",
        "suppress-bibliography: true\n",
        "---"
      ],
      "id": "d248a3c6"
    },
    {
      "cell_type": "code",
      "metadata": {},
      "source": [
        "from data.ai import likert_cluster_and_visualize, perform_kmodes_clustering, radar_chart, plot_feature_preferences, ai_roles"
      ],
      "id": "d9921319",
      "execution_count": null,
      "outputs": []
    },
    {
      "cell_type": "markdown",
      "metadata": {},
      "source": [
        "## AI Companion\n",
        "\n",
        "### Likert-Based Clustering\n",
        "AI-assistant feature choices per Likert-based Personas\n"
      ],
      "id": "1c9ed2de"
    },
    {
      "cell_type": "code",
      "metadata": {},
      "source": [
        "likert_cluster_and_visualize()"
      ],
      "id": "dd41814b",
      "execution_count": null,
      "outputs": []
    },
    {
      "cell_type": "markdown",
      "metadata": {},
      "source": [
        "## Feature-Based Clustering\n",
        "Clustering students based on AI-assistant feature choices.\n",
        "\n",
        "### Feature Preferences (Overall)\n"
      ],
      "id": "ae286c2b"
    },
    {
      "cell_type": "code",
      "metadata": {},
      "source": [
        "radar_chart()"
      ],
      "id": "05f84c63",
      "execution_count": null,
      "outputs": []
    },
    {
      "cell_type": "markdown",
      "metadata": {},
      "source": [
        "## Feature Preferences (By Cluster)\n"
      ],
      "id": "4dbd955a"
    },
    {
      "cell_type": "code",
      "metadata": {},
      "source": [
        "plot_feature_preferences()"
      ],
      "id": "402e4e39",
      "execution_count": null,
      "outputs": []
    },
    {
      "cell_type": "markdown",
      "metadata": {},
      "source": [
        "## Preferred AI Roles (Overall)\n"
      ],
      "id": "01921fba"
    },
    {
      "cell_type": "code",
      "metadata": {},
      "source": [
        "ai_roles()"
      ],
      "id": "0df15b95",
      "execution_count": null,
      "outputs": []
    }
  ],
  "metadata": {
    "kernelspec": {
      "name": "python3",
      "language": "python",
      "display_name": "Python 3 (ipykernel)",
      "path": "/usr/local/share/jupyter/kernels/python3"
    }
  },
  "nbformat": 4,
  "nbformat_minor": 5
}