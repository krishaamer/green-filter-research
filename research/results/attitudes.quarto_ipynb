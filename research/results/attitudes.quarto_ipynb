{
  "cells": [
    {
      "cell_type": "markdown",
      "metadata": {},
      "source": [
        "---\n",
        "title: Attitudes\n",
        "sidebar_position: 3\n",
        "execute:\n",
        "  echo: false\n",
        "editor:\n",
        "  render-on-save: false\n",
        "suppress-bibliography: true\n",
        "---"
      ],
      "id": "0f2dbde6"
    },
    {
      "cell_type": "code",
      "metadata": {},
      "source": [
        "from data.attitudes import likert_charts, likert_single_chart, correlation_network, correlation_chart\n",
        "from data.environment import ecosystem_sensitivity\n",
        "import warnings\n",
        "warnings.filterwarnings(\"ignore\")"
      ],
      "id": "f2138eef",
      "execution_count": null,
      "outputs": []
    },
    {
      "cell_type": "markdown",
      "metadata": {},
      "source": [
        "## Taiwanese College Student Attitudes (Overall)\n",
        "These are student attitudes across all 36 likert fields without clustering. Clustered results are available under the Personas section.\n",
        "\n",
        "### Economy"
      ],
      "id": "9ddb3118"
    },
    {
      "cell_type": "code",
      "metadata": {},
      "source": [
        "#| label: fig-survey-econ-res\n",
        "#| fig-cap: Student Attitudes Towards Economics Issues\n",
        "#| fig-scap: Student Attitudes Towards Economics Issues\n",
        "likert_single_chart(2)"
      ],
      "id": "fig-survey-econ-res",
      "execution_count": null,
      "outputs": []
    },
    {
      "cell_type": "markdown",
      "metadata": {},
      "source": [
        "| # | Prompt (EN)                                                      | Disagree 1-2 | Neutral 3 | Agree 4-5 | TL;DR vibe                                                                                                     |\n",
        "| - | ---------------------------------------------------------------- | ------------ | --------- | --------- | -------------------------------------------------------------------------------------------------------------- |\n",
        "| 1 | *“Taiwan’s economic goal is growth.”*                            | 19 %         | 31 %      | **50 %**  | Half the class sees “GDP go brrr” as the main national KPI.                                                    |\n",
        "| 2 | *“Environmental degradation is a prerequisite for that growth.”* | **39 %**     | 26 %      | 34 %      | Split squad: a big chunk rejects the trade-off, but one-third thinks wrecking nature is the price of progress. |\n",
        "| 3 | *“Taiwan’s growth helps protect the environment.”*               | **40 %**     | 31 %      | 29 %      | Skeptic mode: more students *disagree* than buy the “growth = green” story.                                    |\n",
        "| 4 | *“The economy can keep growing without emitting CO₂.”*           | **45 %**     | 24 %      | 28 %      | Decoupling doubters outnumber believers almost 2:1.                                                            |\n",
        "| 5 | *“Economic growth has material limits.”*                         | 10 %         | 26 %      | **64 %**  | Clear majority says “Planet > infinite GDP” – limits are real.                                                 |\n",
        "\n",
        "\n",
        "### AI Use"
      ],
      "id": "5a7b0b5f"
    },
    {
      "cell_type": "code",
      "metadata": {},
      "source": [
        "#| label: fig-survey-ai-use\n",
        "#| fig-cap: Student Attitudes Towards AI Use\n",
        "#| fig-scap: Student Attitudes Towards AI Use\n",
        "likert_single_chart(3)"
      ],
      "id": "fig-survey-ai-use",
      "execution_count": null,
      "outputs": []
    },
    {
      "cell_type": "markdown",
      "metadata": {},
      "source": [
        "### Nature"
      ],
      "id": "7b2dcbf0"
    },
    {
      "cell_type": "code",
      "metadata": {},
      "source": [
        "#| label: fig-survey-nature\n",
        "#| fig-cap: Student Attitudes Towards Nature\n",
        "#| fig-scap: Student Attitudes Towards Nature\n",
        "likert_single_chart(4)"
      ],
      "id": "fig-survey-nature",
      "execution_count": null,
      "outputs": []
    },
    {
      "cell_type": "markdown",
      "metadata": {},
      "source": [
        "### Environmental Protection"
      ],
      "id": "63a20dda"
    },
    {
      "cell_type": "code",
      "metadata": {},
      "source": [
        "#| label: fig-survey-envir-protect\n",
        "#| fig-cap: Student Attitudes Towards Environmental Protection\n",
        "#| fig-scap: Student Attitudes Towards Environmental Protection\n",
        "likert_single_chart(5)"
      ],
      "id": "fig-survey-envir-protect",
      "execution_count": null,
      "outputs": []
    },
    {
      "cell_type": "markdown",
      "metadata": {},
      "source": [
        "### Learning Environment"
      ],
      "id": "10ef98a1"
    },
    {
      "cell_type": "code",
      "metadata": {},
      "source": [
        "#| label: fig-survey-learn-env\n",
        "#| fig-cap: Students' Learning Environment\n",
        "#| fig-scap: Students' Learning Environment\n",
        "likert_single_chart(6)"
      ],
      "id": "fig-survey-learn-env",
      "execution_count": null,
      "outputs": []
    },
    {
      "cell_type": "markdown",
      "metadata": {},
      "source": [
        "### Correlations Between Fields"
      ],
      "id": "60d92b83"
    },
    {
      "cell_type": "code",
      "metadata": {},
      "source": [
        "#| label: fig-survey-corr\n",
        "#| fig-cap: Correlations Between Student Attitudes\n",
        "#| fig-scap: Correlations Between Student Attitudes\n",
        "correlation_network()"
      ],
      "id": "fig-survey-corr",
      "execution_count": null,
      "outputs": []
    },
    {
      "cell_type": "markdown",
      "metadata": {},
      "source": [
        "### Environmental Knowledge Ranking Experiment\n",
        "Test knowledge about the environment."
      ],
      "id": "44913c7a"
    },
    {
      "cell_type": "code",
      "metadata": {},
      "source": [
        "#| label: fig-survey-envir-know\n",
        "#| fig-cap: Students' Environmental Knowledge\n",
        "#| fig-scap: Students' Environmental Knowledge\n",
        "ecosystem_sensitivity()"
      ],
      "id": "fig-survey-envir-know",
      "execution_count": null,
      "outputs": []
    },
    {
      "cell_type": "markdown",
      "metadata": {},
      "source": [
        "Design implications: \n",
        "-   A majority of the respondents don't plan to buy a house or car within 7 years: don't focus on these categories\n",
        "-   Majority don't fly much: don't focus on flights.\n"
      ],
      "id": "da2e2d4b"
    }
  ],
  "metadata": {
    "kernelspec": {
      "name": "python3",
      "language": "python",
      "display_name": "Python 3 (ipykernel)",
      "path": "/Library/Frameworks/Python.framework/Versions/3.13/share/jupyter/kernels/python3"
    }
  },
  "nbformat": 4,
  "nbformat_minor": 5
}