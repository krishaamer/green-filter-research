{
  "cells": [
    {
      "cell_type": "markdown",
      "metadata": {},
      "source": [
        "---\n",
        "title: Attitudes\n",
        "sidebar_position: 3\n",
        "execute:\n",
        "  echo: false\n",
        "editor:\n",
        "  render-on-save: false\n",
        "suppress-bibliography: true\n",
        "---"
      ],
      "id": "758881bc"
    },
    {
      "cell_type": "code",
      "metadata": {},
      "source": [
        "from data.attitudes import likert_charts, likert_single_chart, correlation_network, correlation_chart\n",
        "from data.partial import partial_likert_single_chart\n",
        "from data.environment import ecosystem_sensitivity\n",
        "import warnings\n",
        "warnings.filterwarnings(\"ignore\")"
      ],
      "id": "c0282ede",
      "execution_count": null,
      "outputs": []
    },
    {
      "cell_type": "markdown",
      "metadata": {},
      "source": [
        "## Taiwanese College Student Attitudes (Overall)\n",
        "\n",
        "These are student attitudes across all 36 likert fields without clustering. Clustered results are available under the Personas section.\n",
        "\n",
        "### Economy"
      ],
      "id": "9188fa91"
    },
    {
      "cell_type": "code",
      "metadata": {},
      "source": [
        "#| label: fig-survey-econ-res\n",
        "#| fig-cap: Student Attitudes Towards Economics Issues\n",
        "#| fig-scap: Student Attitudes Towards Economics Issues\n",
        "likert_single_chart(2)"
      ],
      "id": "fig-survey-econ-res",
      "execution_count": null,
      "outputs": []
    },
    {
      "cell_type": "markdown",
      "metadata": {},
      "source": [
        "+------------------------------------------------------------------+--------------+-----------+-----------+----------------------------------------------------------------------------------------------------------------------------------------+\n",
        "| Question                                                         | Disagree 1-2 | Neutral 3 | Agree 4-5 | Interpretation                                                                                                                         |\n",
        "+==================================================================+==============+===========+===========+========================================================================================================================================+\n",
        "| *“Taiwan’s economic goal is growth.”*                            | 19%          | 31%       | **50%**   | Half the college students see GDP growth as the main national KPI.                                                                     |\n",
        "+------------------------------------------------------------------+--------------+-----------+-----------+----------------------------------------------------------------------------------------------------------------------------------------+\n",
        "| *“Environmental degradation is a prerequisite for that growth.”* | **39%**      | 26%       | 34%       | Split opinions: a large percentage of the respondents rejects this trade-off, but 1/3 thinks wrecking nature is the price of progress. |\n",
        "+------------------------------------------------------------------+--------------+-----------+-----------+----------------------------------------------------------------------------------------------------------------------------------------+\n",
        "| *“Taiwan’s growth helps protect the environment.”*               | **40%**      | 31%       | 29%       | Skeptic mode: more students *disagree* than buy the “growth = green” story.                                                            |\n",
        "+------------------------------------------------------------------+--------------+-----------+-----------+----------------------------------------------------------------------------------------------------------------------------------------+\n",
        "| *“The economy can keep growing without emitting CO₂.”*           | **45%**      | 24%       | 28%       | Decoupling doubters outnumber believers almost 2:1.                                                                                    |\n",
        "+------------------------------------------------------------------+--------------+-----------+-----------+----------------------------------------------------------------------------------------------------------------------------------------+\n",
        "| *“Economic growth has material limits.”*                         | 10%          | 26%       | **64%**   | Clear majority says “Planet \\> infinite GDP” - limits are real.                                                                        |\n",
        "+------------------------------------------------------------------+--------------+-----------+-----------+----------------------------------------------------------------------------------------------------------------------------------------+\n",
        "\n",
        ": Interpreting the economic attitudes of college students.\n",
        "\n",
        "Data from partial surveys."
      ],
      "id": "e74f16c7"
    },
    {
      "cell_type": "code",
      "metadata": {},
      "source": [
        "#| label: fig-survey-econ-res-partial\n",
        "#| fig-cap: 'Partial: Student Attitudes Towards Economics Issues'\n",
        "#| fig-scap: 'Partial: Student Attitudes Towards Economics Issues'\n",
        "partial_likert_single_chart(2)"
      ],
      "id": "fig-survey-econ-res-partial",
      "execution_count": null,
      "outputs": []
    },
    {
      "cell_type": "markdown",
      "metadata": {},
      "source": [
        "### AI Use"
      ],
      "id": "252a5cf2"
    },
    {
      "cell_type": "code",
      "metadata": {},
      "source": [
        "#| label: fig-survey-ai-use\n",
        "#| fig-cap: Student Attitudes Towards AI Use\n",
        "#| fig-scap: Student Attitudes Towards AI Use\n",
        "likert_single_chart(3)"
      ],
      "id": "fig-survey-ai-use",
      "execution_count": null,
      "outputs": []
    },
    {
      "cell_type": "markdown",
      "metadata": {},
      "source": [
        "Data from partial surveys."
      ],
      "id": "e7721a61"
    },
    {
      "cell_type": "code",
      "metadata": {},
      "source": [
        "#| label: fig-survey-ai-use-partial\n",
        "#| fig-cap: 'Partial: Student Attitudes Towards AI Use'\n",
        "#| fig-scap: 'Partial: Student Attitudes Towards AI Use'\n",
        "partial_likert_single_chart(3)"
      ],
      "id": "fig-survey-ai-use-partial",
      "execution_count": null,
      "outputs": []
    },
    {
      "cell_type": "markdown",
      "metadata": {},
      "source": [
        "### Nature"
      ],
      "id": "31ace8d1"
    },
    {
      "cell_type": "code",
      "metadata": {},
      "source": [
        "#| label: fig-survey-nature\n",
        "#| fig-cap: Student Attitudes Towards Nature\n",
        "#| fig-scap: Student Attitudes Towards Nature\n",
        "likert_single_chart(4)"
      ],
      "id": "fig-survey-nature",
      "execution_count": null,
      "outputs": []
    },
    {
      "cell_type": "markdown",
      "metadata": {},
      "source": [
        "### Environmental Protection"
      ],
      "id": "084f4f2c"
    },
    {
      "cell_type": "code",
      "metadata": {},
      "source": [
        "#| label: fig-survey-envir-protect\n",
        "#| fig-cap: Student Attitudes Towards Environmental Protection\n",
        "#| fig-scap: Student Attitudes Towards Environmental Protection\n",
        "likert_single_chart(5)"
      ],
      "id": "fig-survey-envir-protect",
      "execution_count": null,
      "outputs": []
    },
    {
      "cell_type": "markdown",
      "metadata": {},
      "source": [
        "### Learning Environment"
      ],
      "id": "277752c3"
    },
    {
      "cell_type": "code",
      "metadata": {},
      "source": [
        "#| label: fig-survey-learn-env\n",
        "#| fig-cap: Students' Learning Environment\n",
        "#| fig-scap: Students' Learning Environment\n",
        "likert_single_chart(6)"
      ],
      "id": "fig-survey-learn-env",
      "execution_count": null,
      "outputs": []
    },
    {
      "cell_type": "markdown",
      "metadata": {},
      "source": [
        "### Correlations Between Fields\n",
        "\n",
        "Correlations between fields allow clustering similar groups of students."
      ],
      "id": "1de802ad"
    },
    {
      "cell_type": "code",
      "metadata": {},
      "source": [
        "#| label: fig-survey-corr\n",
        "#| fig-cap: Correlations Between Student Attitudes\n",
        "#| fig-scap: Correlations Between Student Attitudes\n",
        "correlation_network()"
      ],
      "id": "fig-survey-corr",
      "execution_count": null,
      "outputs": []
    },
    {
      "cell_type": "markdown",
      "metadata": {},
      "source": [
        "+------------------------------------+-------------------------------------------------------------------------------------------+---------------------------------------------------------------------------------------------------------------------------------------------------------------------+\n",
        "| **Cluster**                        | **Key Questions**                                                                         | **Interpretation**                                                                                                                                                  |\n",
        "+====================================+===========================================================================================+=====================================================================================================================================================================+\n",
        "| **Green Engagement**               | \\- 你/妳想做更多環保的事嗎？*Would you like to do more for the environment?*              | Core “green mindset” cluster. Students who feel climate anxiety are also motivated and politically curious. Likely early adopters of sustainable tools.             |\n",
        "|                                    |                                                                                           |                                                                                                                                                                     |\n",
        "|                                    | \\- 你/妳的環保行動對於環境保護有成效嗎？*Do you think your actions help the environment?* |                                                                                                                                                                     |\n",
        "|                                    |                                                                                           |                                                                                                                                                                     |\n",
        "|                                    | \\- 你/妳努力才讓低碳生活嗎？*Do you strive to live a low-carbon life?*                    |                                                                                                                                                                     |\n",
        "|                                    |                                                                                           |                                                                                                                                                                     |\n",
        "|                                    | \\- 你/妳對環境污染流露出焦慮嗎？*Do you feel anxious about environmental pollution?*      |                                                                                                                                                                     |\n",
        "|                                    |                                                                                           |                                                                                                                                                                     |\n",
        "|                                    | \\- 你/妳對環境相關政治議題有興趣嗎？*Are you interested in environmental politics?*       |                                                                                                                                                                     |\n",
        "+------------------------------------+-------------------------------------------------------------------------------------------+---------------------------------------------------------------------------------------------------------------------------------------------------------------------+\n",
        "| **Nature Identity**                | \\- 你/妳喜歡待在大自然嗎？*Do you like being in nature?*                                  | Emotionally grounded, biodiversity-aware students. More connected to *nature as place*, not just “climate change” as a concept. Great for nature-learning features. |\n",
        "|                                    |                                                                                           |                                                                                                                                                                     |\n",
        "|                                    | \\- 你/妳覺得自己和大自然很接近嗎？*Do you feel close to nature?*                          |                                                                                                                                                                     |\n",
        "|                                    |                                                                                           |                                                                                                                                                                     |\n",
        "|                                    | \\- 你/妳知道許多植物和動物的名字嗎？*Do you know many species?*                           |                                                                                                                                                                     |\n",
        "+------------------------------------+-------------------------------------------------------------------------------------------+---------------------------------------------------------------------------------------------------------------------------------------------------------------------+\n",
        "| **Tech & System Trust**            | \\- 你/妳相信碳排放抵換機制嗎？*Do you trust carbon offset credits?*                       | Openness to abstract or institutional systems (AI, offsets). Users here are more likely to accept algorithmic tools or fintech solutions.                           |\n",
        "|                                    |                                                                                           |                                                                                                                                                                     |\n",
        "|                                    | \\- 你/妳相信AI嗎？*Do you trust AI?*                                                      |                                                                                                                                                                     |\n",
        "+------------------------------------+-------------------------------------------------------------------------------------------+---------------------------------------------------------------------------------------------------------------------------------------------------------------------+\n",
        "| **Changemaker Confidence Cluster** | \\- 你/妳覺得自己創新想法會被採用嗎？*Do you believe your ideas will be adopted?*          | Belief in innovation and institutional support. A smaller but important group—ideal for leadership roles or student-led sustainability challenges.                  |\n",
        "|                                    |                                                                                           |                                                                                                                                                                     |\n",
        "|                                    | \\- 你/妳的⼤學可⽀援你性支持嗎？*Does your university support you?*                       |                                                                                                                                                                     |\n",
        "+------------------------------------+-------------------------------------------------------------------------------------------+---------------------------------------------------------------------------------------------------------------------------------------------------------------------+\n",
        "| **Financial Habits**               | \\- 你/妳會省錢嗎？*Do you save money?*                                                    | Practical, price-sensitive users. Likely to respond to cost-saving sustainability nudges (e.g. “eco ≠ expensive” framing).                                          |\n",
        "|                                    |                                                                                           |                                                                                                                                                                     |\n",
        "|                                    | \\- 你/妳會在意錢嗎？*Do you care about money?*                                            |                                                                                                                                                                     |\n",
        "+------------------------------------+-------------------------------------------------------------------------------------------+---------------------------------------------------------------------------------------------------------------------------------------------------------------------+\n",
        "\n",
        "### Environmental Knowledge Ranking Experiment\n",
        "\n",
        "Testing student knowledge about the environment. College students see coral reefs, tropical rainforests, and wetlands as the most sensitive ecosystems, aligning with global climate narratives. However, the long tail of unique combos suggests mixed ecological knowledge and a strong opportunity to educate and personalize ecosystem awareness, especially in a Taiwanese context."
      ],
      "id": "2439615e"
    },
    {
      "cell_type": "code",
      "metadata": {},
      "source": [
        "#| label: fig-survey-envir-know\n",
        "#| fig-cap: Students' Environmental Knowledge\n",
        "#| fig-scap: Students' Environmental Knowledge\n",
        "ecosystem_sensitivity()"
      ],
      "id": "fig-survey-envir-know",
      "execution_count": null,
      "outputs": []
    }
  ],
  "metadata": {
    "kernelspec": {
      "name": "python3",
      "language": "python",
      "display_name": "Python 3 (ipykernel)",
      "path": "/Library/Frameworks/Python.framework/Versions/3.13/share/jupyter/kernels/python3"
    }
  },
  "nbformat": 4,
  "nbformat_minor": 5
}