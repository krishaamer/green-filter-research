{
  "cells": [
    {
      "cell_type": "markdown",
      "metadata": {},
      "source": [
        "---\n",
        "title: Investing\n",
        "sidebar_position: 3\n",
        "execute:\n",
        "  echo: false\n",
        "editor:\n",
        "  render-on-save: false\n",
        "suppress-bibliography: true\n",
        "---"
      ],
      "id": "ae836c2e"
    },
    {
      "cell_type": "code",
      "metadata": {},
      "source": [
        "from data.attitudes import likert_single_chart\n",
        "from data.investing import investment_count, investment_data\n",
        "import warnings\n",
        "warnings.filterwarnings(\"ignore\")"
      ],
      "id": "34a2d3bf",
      "execution_count": null,
      "outputs": []
    },
    {
      "cell_type": "markdown",
      "metadata": {},
      "source": [
        "## Investing\n",
        "\n",
        "Student attitudes towards investing.\n",
        "\n",
        "### Saving and Investing"
      ],
      "id": "a2ed6fa0"
    },
    {
      "cell_type": "code",
      "metadata": {},
      "source": [
        "#| label: fig-survey-att-inve\n",
        "#| fig-cap: Student Attitudes Towards Saving and Investing\n",
        "#| fig-scap: Student Attitudes Towards Saving and Investing\n",
        "likert_single_chart(1)"
      ],
      "id": "fig-survey-att-inve",
      "execution_count": null,
      "outputs": []
    },
    {
      "cell_type": "markdown",
      "metadata": {},
      "source": [
        "### Investing Experience (Overall)"
      ],
      "id": "92f425fd"
    },
    {
      "cell_type": "code",
      "metadata": {},
      "source": [
        "#| label: fig-survey-invest-xp\n",
        "#| fig-cap: Students' Investing Experience\n",
        "#| fig-scap: Students' Investing Experience\n",
        "investment_count()"
      ],
      "id": "fig-survey-invest-xp",
      "execution_count": null,
      "outputs": []
    },
    {
      "cell_type": "markdown",
      "metadata": {},
      "source": [
        "## Choice Experiment\n",
        "\n",
        "Question: 你/妳選哪個投資？ Which investment do you choose?"
      ],
      "id": "7799c135"
    },
    {
      "cell_type": "code",
      "metadata": {},
      "source": [
        "#| label: fig-survey-invest-choice-xp\n",
        "#| fig-cap: Investing Choice Experiment\n",
        "#| fig-scap: Investing Choice Experiment\n",
        "investment_data()"
      ],
      "id": "fig-survey-invest-choice-xp",
      "execution_count": null,
      "outputs": []
    }
  ],
  "metadata": {
    "kernelspec": {
      "name": "python3",
      "language": "python",
      "display_name": "Python 3 (ipykernel)",
      "path": "/Library/Frameworks/Python.framework/Versions/3.13/share/jupyter/kernels/python3"
    }
  },
  "nbformat": 4,
  "nbformat_minor": 5
}