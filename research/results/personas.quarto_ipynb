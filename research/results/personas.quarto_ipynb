{
  "cells": [
    {
      "cell_type": "markdown",
      "metadata": {},
      "source": [
        "---\n",
        "title: Personas\n",
        "sidebar_position: 3\n",
        "execute:\n",
        "  echo: false\n",
        "editor:\n",
        "  render-on-save: false\n",
        "suppress-bibliography: true\n",
        "---"
      ],
      "id": "8dbec9a3"
    },
    {
      "cell_type": "code",
      "metadata": {},
      "source": [
        "from data.personas import treemap, show_personas, show_single_persona, show_clustering_heatmap, get_kmeans_table\n",
        "import warnings\n",
        "warnings.filterwarnings(\"ignore\")"
      ],
      "id": "aa5a9336",
      "execution_count": null,
      "outputs": []
    },
    {
      "cell_type": "markdown",
      "metadata": {},
      "source": [
        "## Personas\n",
        "\n",
        "### Clustering Students to Build Personas\n",
        "\n",
        "Customer segmentation\n",
        "\n",
        "Personas are created using K-means clustering, an unsupervised machine learning algorithm, which clusters college students based on their responses across 36 Likert scale fields in the online survey. Clusters are visualized using Principal Component Analysis (PCA), where the principal component loadings on the X and Y axes represent the weights of the original Likert scale fields, transformed into the principal components that capture the most variance.\n",
        "\n",
        "The Likert scale is a psychometric scale developed by Rensis Likert already in the 1930s, and it's commonly used to this day in questionnaires to measure respondents' attitudes, opinions, and perceptions [@sullivanAnalyzingInterpretingData2013]. K-Means, K-Modes, and K-Prototypes are unsupervised machine learning algorithms, used for finding patterns in the data. Here I've opted to use K-Means and Principal Component Analysis (PCA), which is used to convert data to lower dimension space (this is a simpler predecessor of *embeddings* used in large-language models). \n",
        "\n",
        "| Persona             | Color/marker | Rough **attitude signal** along PC 1                            | Cluster Centre (PC 1, PC 2) | Size    |\n",
        "| ------------------- | ------------ | --------------------------------------------------------------- | --------------------------- | ------- |\n",
        "| **1. Eco-Friendly** | blue ★       | Leans pro-environment, willing to pay or act for green goals | (\\~ +2.2, +0.7)             | n = 278 |\n",
        "| **2. Moderate**     | orange ★     | Sits in the middle, balanced or undecided on most trade-offs | (\\~ 0.0, –1.5)              | n = 356 |\n",
        "| **3. Frugal**       | green ★      | Cost-first, cautious about spending for eco causes           | (\\~ –2.0, +0.8)             | n = 242 |\n"
      ],
      "id": "2a8b4cd1"
    },
    {
      "cell_type": "code",
      "metadata": {},
      "source": [
        "#| label: fig-survey-personas\n",
        "#| fig-cap: College Student Personas\n",
        "#| fig-scap: College Student Personas\n",
        "show_personas()"
      ],
      "id": "fig-survey-personas",
      "execution_count": null,
      "outputs": []
    },
    {
      "cell_type": "markdown",
      "metadata": {},
      "source": [
        "### Persona 1: \"Eco-Friendly\"\n",
        "Questions Most Affecting Persona Creation include..."
      ],
      "id": "742729b6"
    },
    {
      "cell_type": "code",
      "metadata": {},
      "source": [
        "#| label: fig-survey-personas-one\n",
        "#| fig-cap: Persona 1 - Eco-Friendly\n",
        "#| fig-scap: Persona 1 - Eco-Friendly\n",
        "show_single_persona(0)"
      ],
      "id": "fig-survey-personas-one",
      "execution_count": null,
      "outputs": []
    },
    {
      "cell_type": "markdown",
      "metadata": {},
      "source": [
        "### Persona 2: \"Moderate\"\n",
        "Questions Most Affecting Persona Creation include..."
      ],
      "id": "c2cc4f7f"
    },
    {
      "cell_type": "code",
      "metadata": {},
      "source": [
        "#| label: fig-survey-personas-two\n",
        "#| fig-cap: Persona 2 - Moderate\n",
        "#| fig-scap: Persona 2 - Moderate\n",
        "show_single_persona(1)"
      ],
      "id": "fig-survey-personas-two",
      "execution_count": null,
      "outputs": []
    },
    {
      "cell_type": "markdown",
      "metadata": {},
      "source": [
        "### Persona 3: \"Frugal\"\n",
        "Questions Most Affecting Persona Creation include..."
      ],
      "id": "8338e5af"
    },
    {
      "cell_type": "code",
      "metadata": {},
      "source": [
        "#| label: fig-survey-personas-three\n",
        "#| fig-cap: Persona 3 - Frugal\n",
        "#| fig-scap: Persona 3 - Frugal\n",
        "show_single_persona(2)"
      ],
      "id": "fig-survey-personas-three",
      "execution_count": null,
      "outputs": []
    },
    {
      "cell_type": "markdown",
      "metadata": {},
      "source": [
        "## Clustering Heatmap"
      ],
      "id": "e4173a54"
    },
    {
      "cell_type": "code",
      "metadata": {},
      "source": [
        "#| label: fig-survey-heatmap\n",
        "#| fig-cap: College Students' Clustering Heatmap\n",
        "#| fig-scap: College Students' Clustering Heatmap\n",
        "show_clustering_heatmap()"
      ],
      "id": "fig-survey-heatmap",
      "execution_count": null,
      "outputs": []
    },
    {
      "cell_type": "markdown",
      "metadata": {},
      "source": [
        "## Mean Answer Scores\n",
        "Mean response values for each Likert question in each cluster:"
      ],
      "id": "01ff49e6"
    },
    {
      "cell_type": "code",
      "metadata": {},
      "source": [
        "#| label: fig-survey-mean-answ\n",
        "#| fig-cap: Mean Values of Survey Responses\n",
        "#| fig-scap: Mean Values of Survey Responses\n",
        "get_kmeans_table()"
      ],
      "id": "fig-survey-mean-answ",
      "execution_count": null,
      "outputs": []
    },
    {
      "cell_type": "markdown",
      "metadata": {},
      "source": [
        "## Agreement Between Personas\n",
        "There is some similarity between clusters. All 3 personas report a high level of financial anxiety and below-average satisfaction with their financial literacy. Highest agreement between personas is about health, safety, pollution and climate concerns."
      ],
      "id": "8b5b2431"
    },
    {
      "cell_type": "code",
      "metadata": {},
      "source": [
        "#| label: fig-survey-high-agree\n",
        "#| fig-cap: Topics With Highest Agreement Between Personas\n",
        "#| fig-scap: Topics With Highest Agreement Between Personas\n",
        "treemap()"
      ],
      "id": "fig-survey-high-agree",
      "execution_count": null,
      "outputs": []
    },
    {
      "cell_type": "markdown",
      "metadata": {},
      "source": [
        "| Rank | Category (Mean¹)                             | Why the take mostly holds                                                                                | Any nuance to note                                                                                               |\n",
        "| ---- | -------------------------------------------- | -------------------------------------------------------------------------------------------------------- | ---------------------------------------------------------------------------------------------------------------- |\n",
        "| 1    | **Health & Safety (4.20)**                   | Highest average → students *actively* click with personal well-being.                                    | The spread is tight; nearly everyone agrees, so messaging can be broad.                                          |\n",
        "| 2    | **Climate & Pollution (4.00)**               | Strong support for big-picture environmental stakes.                                                     | Scores cluster a hair lower than #1, but difference isn’t huge.                                                  |\n",
        "| 3    | **Env. Awareness & Action (3.80)**           | They *like* the idea of acting green, just slightly less pumped than broad “save the planet” statements. | Some questions in this bucket may have asked for concrete effort (reuse cups, etc.), which drags the mean a bit. |\n",
        "| 4    | **Personal Finance & Investment (3.50)**     | Mid-3s says “interested, not obsessed.” Your “money talk sits mid-tier” line is spot-on.                 | Variance is wider; a sub-segment rates it high, others shrug.                                                    |\n",
        "| 5    | **Ethical Consumption & Labor (3.20)**       | Agreement exists but lags — real people far away feel abstract.                                          | If you spotlight specific worker stories, expect this score to climb.                                            |\n",
        "| 6    | **Tech & AI Engagement (3.10)**              | Curiosity tempered by caution, exactly as you wrote.                                                     | The topic is newer, so opinions are still forming.                                                               |\n",
        "| 7    | **Economic Growth vs Sustainability (2.90)** | Lowest mean = hardest sell; “trade-off” framing pushes folks to neutral/disagree.                        | If you rephrase questions to show win-win economics, this block can leap upward.                                 |\n",
        "\n",
        "\n",
        "\n",
        "In summary, *Safety > Planet > Personal Eco-action*. Students first protect themselves (food safety, health), then the planet, then think about their habits. Money talk sits mid-tier. Finance topics aren’t ignored (3.5 / 5) but aren’t hype either. Ethical labor & AI still feel abstract. Sweat-shop worries and AI curiosity land in the low-3’s. Economic trade-offs are the hardest sell. When sustainability sounds like “sacrifice growth,” support tanks (< 3).\n",
        "\n",
        "*Design Implications*: Frame eco-features around personal health wins to boost engagement. App idea: Link sustainable investing to tangible health or climate outcomes to lift enthusiasm. Communications angle: Storytelling about real human impact behind labor issues and show AI as a practical helper, not sci-fi. Policy framing: Highlight win-win scenarios (green jobs, savings) instead of “growth vs. green” rhetoric.\n"
      ],
      "id": "c78ccc2e"
    }
  ],
  "metadata": {
    "kernelspec": {
      "name": "python3",
      "language": "python",
      "display_name": "Python 3 (ipykernel)",
      "path": "/Library/Frameworks/Python.framework/Versions/3.13/share/jupyter/kernels/python3"
    }
  },
  "nbformat": 4,
  "nbformat_minor": 5
}