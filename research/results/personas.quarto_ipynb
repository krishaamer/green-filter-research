{
  "cells": [
    {
      "cell_type": "markdown",
      "metadata": {},
      "source": [
        "---\n",
        "title: Personas\n",
        "sidebar_position: 3\n",
        "execute:\n",
        "  echo: false\n",
        "editor:\n",
        "  render-on-save: false\n",
        "suppress-bibliography: true\n",
        "---"
      ],
      "id": "44bb4030"
    },
    {
      "cell_type": "code",
      "metadata": {},
      "source": [
        "from data.personas import treemap, show_personas, show_single_persona, show_clustering_heatmap, get_kmeans_table\n",
        "import warnings\n",
        "warnings.filterwarnings(\"ignore\")"
      ],
      "id": "9c761574",
      "execution_count": null,
      "outputs": []
    },
    {
      "cell_type": "markdown",
      "metadata": {},
      "source": [
        "## Personas\n",
        "\n",
        "### Clustering Students to Build Personas\n",
        "\n",
        "Customer segmentation\n",
        "\n",
        "Personas are created using K-means clustering, an unsupervised machine learning algorithm, which clusters college students based on their responses across 36 Likert-scale fields in the online survey. Clusters are visualized using Principal Component Analysis (PCA), where the principal component loadings on the X and Y axes represent the weights of the original Likert-scale fields, transformed into the principal components that capture the most variance.\n",
        "\n",
        "K-prototypes combines K-mean and K-modes unsupervised machine learning algorithms.\n",
        "\n",
        "- There is some similarity between clusters. All 3 personas report a high level of financial anxiety and below-average satisfaction with their financial literacy.\n",
        "\n",
        "- Principal Component Analysis (PCA) is used to convert data to lower dimension space. This is a predecessor of embeddings.\n"
      ],
      "id": "f85597fb"
    },
    {
      "cell_type": "code",
      "metadata": {},
      "source": [
        "show_personas()"
      ],
      "id": "0e5ac3f9",
      "execution_count": null,
      "outputs": []
    },
    {
      "cell_type": "markdown",
      "metadata": {},
      "source": [
        "### Persona 1: \"Eco-Friendly\"\n",
        "Questions Most Affecting Persona Creation include..."
      ],
      "id": "6344c111"
    },
    {
      "cell_type": "code",
      "metadata": {},
      "source": [
        "show_single_persona(0)"
      ],
      "id": "350c5787",
      "execution_count": null,
      "outputs": []
    },
    {
      "cell_type": "markdown",
      "metadata": {},
      "source": [
        "### Persona 2: \"Moderate\"\n",
        "Questions Most Affecting Persona Creation include..."
      ],
      "id": "baac8770"
    },
    {
      "cell_type": "code",
      "metadata": {},
      "source": [
        "show_single_persona(1)"
      ],
      "id": "79a45a9f",
      "execution_count": null,
      "outputs": []
    },
    {
      "cell_type": "markdown",
      "metadata": {},
      "source": [
        "### Persona 3: \"Frugal\"\n",
        "Questions Most Affecting Persona Creation include..."
      ],
      "id": "b17e3643"
    },
    {
      "cell_type": "code",
      "metadata": {},
      "source": [
        "show_single_persona(2)"
      ],
      "id": "d9fa778d",
      "execution_count": null,
      "outputs": []
    },
    {
      "cell_type": "markdown",
      "metadata": {},
      "source": [
        "## Clustering Heatmap"
      ],
      "id": "2f1f9c99"
    },
    {
      "cell_type": "code",
      "metadata": {},
      "source": [
        "show_clustering_heatmap()"
      ],
      "id": "dc64fa2f",
      "execution_count": null,
      "outputs": []
    },
    {
      "cell_type": "markdown",
      "metadata": {},
      "source": [
        "## Mean Answer Scores\n",
        "Mean response values for each Likert question in each cluster:"
      ],
      "id": "f46fe624"
    },
    {
      "cell_type": "code",
      "metadata": {},
      "source": [
        "get_kmeans_table()"
      ],
      "id": "f1015bf8",
      "execution_count": null,
      "outputs": []
    },
    {
      "cell_type": "markdown",
      "metadata": {},
      "source": [
        "## Agreement between personas\n",
        "Highest agreement between personas is about health, safety, pollution and climate concerns."
      ],
      "id": "f0b89c32"
    },
    {
      "cell_type": "code",
      "metadata": {},
      "source": [
        "treemap()"
      ],
      "id": "9b1b9734",
      "execution_count": null,
      "outputs": []
    }
  ],
  "metadata": {
    "kernelspec": {
      "display_name": "Python 3",
      "language": "python",
      "name": "python3"
    }
  },
  "nbformat": 4,
  "nbformat_minor": 5
}