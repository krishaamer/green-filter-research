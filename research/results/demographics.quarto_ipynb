{
  "cells": [
    {
      "cell_type": "markdown",
      "metadata": {},
      "source": [
        "---\n",
        "title: Demographics\n",
        "sidebar_position: 3\n",
        "execute:\n",
        "  echo: false\n",
        "editor:\n",
        "  render-on-save: false\n",
        "suppress-bibliography: true\n",
        "---"
      ],
      "id": "547b1819"
    },
    {
      "cell_type": "code",
      "metadata": {},
      "source": [
        "from data.demographics import student_counts, student_age_ranking, university_ranking_table, field_of_study_ranking, mbti_ranking\n",
        "import warnings\n",
        "warnings.filterwarnings(\"ignore\")"
      ],
      "id": "8dd0f7a1",
      "execution_count": null,
      "outputs": []
    },
    {
      "cell_type": "markdown",
      "metadata": {},
      "source": [
        "## Respondent Demographics\n",
        "\n",
        "### Study Level"
      ],
      "id": "ff81d043"
    },
    {
      "cell_type": "code",
      "metadata": {},
      "source": [
        "#| label: fig-survey-study-level\n",
        "#| fig-cap: Study Level\n",
        "#| fig-scap: Study Level\n",
        "student_counts()"
      ],
      "id": "fig-survey-study-level",
      "execution_count": null,
      "outputs": []
    },
    {
      "cell_type": "markdown",
      "metadata": {},
      "source": [
        "### Age Distribution"
      ],
      "id": "96b47713"
    },
    {
      "cell_type": "code",
      "metadata": {},
      "source": [
        "#| label: fig-survey-age-dist\n",
        "#| fig-cap: Age Distribution\n",
        "#| fig-scap: Age Distribution\n",
        "student_age_ranking()"
      ],
      "id": "fig-survey-age-dist",
      "execution_count": null,
      "outputs": []
    },
    {
      "cell_type": "markdown",
      "metadata": {},
      "source": [
        "### University"
      ],
      "id": "17c9243c"
    },
    {
      "cell_type": "code",
      "metadata": {},
      "source": [
        "#| label: fig-survey-list-uni\n",
        "#| fig-cap: Universities\n",
        "#| fig-scap: Universities\n",
        "university_ranking_table()"
      ],
      "id": "fig-survey-list-uni",
      "execution_count": null,
      "outputs": []
    },
    {
      "cell_type": "markdown",
      "metadata": {},
      "source": [
        "### Field of Study\n",
        "Fields of study have not been normalized: there may be several expressions of the same academic department, written slightly differently."
      ],
      "id": "804c9161"
    },
    {
      "cell_type": "code",
      "metadata": {},
      "source": [
        "#| label: fig-survey-field-of-study\n",
        "#| fig-cap: Field of Study\n",
        "#| fig-scap: Field of Study\n",
        "field_of_study_ranking()"
      ],
      "id": "fig-survey-field-of-study",
      "execution_count": null,
      "outputs": []
    },
    {
      "cell_type": "markdown",
      "metadata": {},
      "source": [
        "### Personality Type"
      ],
      "id": "1bb5d845"
    },
    {
      "cell_type": "code",
      "metadata": {},
      "source": [
        "#| label: fig-survey-mbti\n",
        "#| fig-cap: Personality Type (MBTI)\n",
        "#| fig-scap: Personality Type (MBTI)\n",
        "mbti_ranking()"
      ],
      "id": "fig-survey-mbti",
      "execution_count": null,
      "outputs": []
    }
  ],
  "metadata": {
    "kernelspec": {
      "name": "python3",
      "language": "python",
      "display_name": "Python 3 (ipykernel)",
      "path": "/Library/Frameworks/Python.framework/Versions/3.13/share/jupyter/kernels/python3"
    }
  },
  "nbformat": 4,
  "nbformat_minor": 5
}